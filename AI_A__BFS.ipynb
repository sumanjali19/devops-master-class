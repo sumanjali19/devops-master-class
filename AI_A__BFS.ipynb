{
  "nbformat": 4,
  "nbformat_minor": 0,
  "metadata": {
    "colab": {
      "provenance": [],
      "authorship_tag": "ABX9TyMmPd4AX9lePIwkUyXJvmvi",
      "include_colab_link": true
    },
    "kernelspec": {
      "name": "python3",
      "display_name": "Python 3"
    },
    "language_info": {
      "name": "python"
    }
  },
  "cells": [
    {
      "cell_type": "markdown",
      "metadata": {
        "id": "view-in-github",
        "colab_type": "text"
      },
      "source": [
        "<a href=\"https://colab.research.google.com/github/sumanjali19/devops-master-class/blob/master/AI_A__BFS.ipynb\" target=\"_parent\"><img src=\"https://colab.research.google.com/assets/colab-badge.svg\" alt=\"Open In Colab\"/></a>"
      ]
    },
    {
      "cell_type": "code",
      "source": [
        "# A* CODE with performance analysis\n",
        "import heapq\n",
        "import time\n",
        "import tracemalloc\n",
        "\n",
        "sld_bucharest = {\n",
        "    'Arad': 366, 'Zerind': 374, 'Oradea': 380, 'Sibiu': 253, 'Timisoara': 329,\n",
        "    'Lugoj': 244, 'Mehadia': 241, 'Drobeta': 242, 'Craiova': 160, 'Rimnicu Vilcea': 193,\n",
        "    'Fagaras': 178, 'Pitesti': 98, 'Bucharest': 0, 'Giurgiu': 77, 'Urziceni': 80,\n",
        "    'Hirsova': 151, 'Eforie': 161, 'Vaslui': 199, 'Iasi': 226, 'Neamt': 234\n",
        "}\n",
        "\n",
        "\n",
        "def a_star_search_with_multiple_heuristics(graph, start, goal, sld_bucharest, heuristic_type='sld', intermediary='Bucharest'):\n",
        "    # Track node expansion\n",
        "    node_expansion_count = 0\n",
        "\n",
        "    # Initialize frontier (priority queue) and other variables\n",
        "    def heuristic(city, goal):\n",
        "        if heuristic_type == 'sld':  # Straight-line distance heuristic\n",
        "            return sld_bucharest.get(city, float('inf'))\n",
        "        elif heuristic_type == 'triangle':  # Triangle inequality heuristic\n",
        "            return abs(sld_bucharest.get(city, float('inf')) - sld_bucharest.get(goal, float('inf')))\n",
        "\n",
        "    frontier = [(0 + heuristic(start, goal), start)]\n",
        "    heapq.heapify(frontier)  # Priority queue (min-heap)\n",
        "    explored = set()\n",
        "    g_costs = {start: 0}\n",
        "    path = {start: None}\n",
        "\n",
        "    while frontier:\n",
        "        _, node = heapq.heappop(frontier)\n",
        "        node_expansion_count += 1  # Increment node expansion count when a node is dequeued\n",
        "\n",
        "        if node == goal:\n",
        "            return construct_path(path, start, goal), g_costs[goal], node_expansion_count  # Return the path, cost, and node expansion\n",
        "\n",
        "        explored.add(node)\n",
        "\n",
        "        for neighbor, cost in graph[node].items():\n",
        "            tentative_g = g_costs[node] + cost\n",
        "            if neighbor not in explored or tentative_g < g_costs.get(neighbor, float('inf')):\n",
        "                g_costs[neighbor] = tentative_g\n",
        "                f_cost = tentative_g + heuristic(neighbor, goal)\n",
        "                heapq.heappush(frontier, (f_cost, neighbor))\n",
        "                path[neighbor] = node\n",
        "\n",
        "    return None, float('inf'), node_expansion_count  # Return no path and infinite cost if goal not found\n",
        "\n",
        "\n",
        "def construct_path(path, start, goal):\n",
        "    \"\"\"Helper function to reconstruct the path from start to goal.\"\"\"\n",
        "    route = []\n",
        "    node = goal\n",
        "    while node is not None:\n",
        "        route.append(node)\n",
        "        node = path[node]\n",
        "    route.reverse()\n",
        "    return route\n",
        "\n",
        "\n",
        "def analyze_a_star_performance(graph, start, goal, sld_bucharest, heuristic_type='sld'):\n",
        "    # Track memory usage using tracemalloc\n",
        "    tracemalloc.start()\n",
        "\n",
        "    # Track time\n",
        "    start_time = time.time()\n",
        "\n",
        "    # Run A* search\n",
        "    path, cost, node_expansion_count = a_star_search_with_multiple_heuristics(graph, start, goal, sld_bucharest, heuristic_type)\n",
        "\n",
        "    # Measure end time and memory usage\n",
        "    end_time = time.time()\n",
        "    execution_time = end_time - start_time\n",
        "    current_memory, peak_memory = tracemalloc.get_traced_memory()\n",
        "    tracemalloc.stop()\n",
        "\n",
        "    # Print results\n",
        "    print(f\"A* Search with {heuristic_type.upper()} Heuristic:\")\n",
        "    print(f\"Path: {path}\")\n",
        "    print(f\"Cost: {cost}\")\n",
        "    print(f\"Execution Time: {execution_time:.6f} seconds\")\n",
        "    print(f\"Memory Usage: {peak_memory / 1024:.2f} KB\")\n",
        "    print(f\"Nodes Expanded: {node_expansion_count}\")\n",
        "    print(\"-------------------------------------------------\\n\")\n",
        "\n",
        "\n",
        "# Example Romania map graph\n",
        "romania_map = {\n",
        "    'Arad': {'Zerind': 75, 'Timisoara': 118, 'Sibiu': 140},\n",
        "    'Zerind': {'Arad': 75, 'Oradea': 71},\n",
        "    'Oradea': {'Zerind': 71, 'Sibiu': 151},\n",
        "    'Sibiu': {'Arad': 140, 'Oradea': 151, 'Fagaras': 99, 'Rimnicu Vilcea': 80},\n",
        "    'Timisoara': {'Arad': 118, 'Lugoj': 111},\n",
        "    'Lugoj': {'Timisoara': 111, 'Mehadia': 70},\n",
        "    'Mehadia': {'Lugoj': 70, 'Drobeta': 75},\n",
        "    'Drobeta': {'Mehadia': 75, 'Craiova': 120},\n",
        "    'Craiova': {'Drobeta': 120, 'Rimnicu Vilcea': 146, 'Pitesti': 138},\n",
        "    'Rimnicu Vilcea': {'Sibiu': 80, 'Craiova': 146, 'Pitesti': 97},\n",
        "    'Fagaras': {'Sibiu': 99, 'Bucharest': 211},\n",
        "    'Pitesti': {'Rimnicu Vilcea': 97, 'Craiova': 138, 'Bucharest': 101},\n",
        "    'Bucharest': {'Fagaras': 211, 'Pitesti': 101, 'Giurgiu': 90, 'Urziceni': 85},\n",
        "    'Giurgiu': {'Bucharest': 90},\n",
        "    'Urziceni': {'Bucharest': 85, 'Hirsova': 98, 'Vaslui': 142},\n",
        "    'Hirsova': {'Urziceni': 98, 'Eforie': 86},\n",
        "    'Eforie': {'Hirsova': 86},\n",
        "    'Vaslui': {'Urziceni': 142, 'Iasi': 92},\n",
        "    'Iasi': {'Vaslui': 92, 'Neamt': 87},\n",
        "    'Neamt': {'Iasi': 87}\n",
        "}\n",
        "\n",
        "\n"
      ],
      "metadata": {
        "colab": {
          "base_uri": "https://localhost:8080/"
        },
        "id": "FFx5o2hVKZZa",
        "outputId": "572065fb-bf19-47b2-bce8-3641da7b9663"
      },
      "execution_count": 23,
      "outputs": [
        {
          "output_type": "stream",
          "name": "stdout",
          "text": [
            "A* Search with SLD Heuristic:\n",
            "Path: ['Timisoara', 'Arad', 'Sibiu', 'Fagaras', 'Bucharest', 'Urziceni', 'Vaslui']\n",
            "Cost: 795\n",
            "Execution Time: 0.000233 seconds\n",
            "Memory Usage: 4.08 KB\n",
            "Nodes Expanded: 24\n",
            "-------------------------------------------------\n",
            "\n",
            "A* Search with TRIANGLE Heuristic:\n",
            "Path: ['Timisoara', 'Arad', 'Sibiu', 'Rimnicu Vilcea', 'Craiova', 'Pitesti', 'Bucharest', 'Urziceni', 'Vaslui']\n",
            "Cost: 950\n",
            "Execution Time: 0.000247 seconds\n",
            "Memory Usage: 2.92 KB\n",
            "Nodes Expanded: 29\n",
            "-------------------------------------------------\n",
            "\n"
          ]
        }
      ]
    },
    {
      "cell_type": "code",
      "source": [
        "#BFS CODE with performance analysis\n",
        "from collections import deque\n",
        "import time\n",
        "import tracemalloc\n",
        "\n",
        "def bfs_search(graph, start, goal):\n",
        "    # Initialize frontier (queue) and other variables\n",
        "    frontier = deque([start])\n",
        "    explored = set()\n",
        "    path = {start: None}\n",
        "\n",
        "    # Track node expansion count\n",
        "    node_expansion_count = 0\n",
        "\n",
        "    while frontier:\n",
        "        node = frontier.popleft()\n",
        "        node_expansion_count += 1  # Increment node expansion count when a node is dequeued\n",
        "\n",
        "        if node == goal:\n",
        "            return construct_path(path, start, goal), node_expansion_count\n",
        "\n",
        "        explored.add(node)\n",
        "\n",
        "        for neighbor in graph[node].keys():  # Explore neighbors\n",
        "            if neighbor not in explored and neighbor not in frontier:\n",
        "                frontier.append(neighbor)\n",
        "                path[neighbor] = node\n",
        "\n",
        "    return None, node_expansion_count  # Return no path if goal is not found\n",
        "\n",
        "\n",
        "def analyze_bfs_performance(graph, start, goal):\n",
        "    tracemalloc.start()\n",
        "    start_time = time.time()\n",
        "\n",
        "    path = bfs_search(graph, start, goal)\n",
        "\n",
        "    end_time = time.time()\n",
        "    execution_time = end_time - start_time\n",
        "    current_memory, peak_memory = tracemalloc.get_traced_memory()\n",
        "    tracemalloc.stop()\n",
        "\n",
        "    print(\"Breadth-First Search:\")\n",
        "    print(f\"Path: {path}\")\n",
        "    print(f\"Path Cost: {len(path) - 1 if path else 'N/A'}\")\n",
        "    print(f\"Execution Time: {execution_time:.6f} seconds\")\n",
        "    print(f\"Memory Usage: {peak_memory / 1024:.2f} KB\")\n",
        "    print(\"-------------------------------------------------\\n\")\n",
        "\n",
        "\n"
      ],
      "metadata": {
        "colab": {
          "base_uri": "https://localhost:8080/"
        },
        "id": "1tIilBEQL3MO",
        "outputId": "d0a7865e-e7d3-4ea5-c5cd-51c42ec844e6"
      },
      "execution_count": 24,
      "outputs": [
        {
          "output_type": "stream",
          "name": "stdout",
          "text": [
            "Breadth-First Search:\n",
            "Path: ['Timisoara', 'Arad', 'Sibiu', 'Fagaras', 'Bucharest', 'Urziceni', 'Vaslui']\n",
            "Path Cost: 6\n",
            "Execution Time: 0.000087 seconds\n",
            "Memory Usage: 2.20 KB\n",
            "Nodes Expanded: 17\n",
            "-------------------------------------------------\n",
            "\n"
          ]
        }
      ]
    },
    {
      "cell_type": "code",
      "source": [
        "#TIME AND SPACE COMPLEXITY of both bfs and A*\n",
        "def analyze_complexity():\n",
        "    print(\"Complexity Analysis:\")\n",
        "    print(\"Breadth-First Search:\")\n",
        "    print(\"Time Complexity: O(b^d) where b is branching factor and d is depth of the shallowest solution.\")\n",
        "    print(\"Space Complexity: O(b^d) because it stores all nodes in memory.\")\n",
        "    print(\"\\nA* Search:\")\n",
        "    print(\"Time Complexity: O(b^d) in the worst case, similar to BFS.\")\n",
        "    print(\"Space Complexity: O(b^d) as well, due to storing nodes and costs in the priority queue.\")\n",
        "    print(\"-------------------------------------------------\\n\")\n",
        "\n",
        "\n",
        "\n",
        "analyze_complexity()\n"
      ],
      "metadata": {
        "colab": {
          "base_uri": "https://localhost:8080/"
        },
        "id": "qpxqOonvMZ79",
        "outputId": "9f678242-6410-4f35-ab23-46945e41fcfa"
      },
      "execution_count": 29,
      "outputs": [
        {
          "output_type": "stream",
          "name": "stdout",
          "text": [
            "Complexity Analysis:\n",
            "Breadth-First Search:\n",
            "Time Complexity: O(b^d) where b is branching factor and d is depth of the shallowest solution.\n",
            "Space Complexity: O(b^d) because it stores all nodes in memory.\n",
            "\n",
            "A* Search:\n",
            "Time Complexity: O(b^d) in the worst case, similar to BFS.\n",
            "Space Complexity: O(b^d) as well, due to storing nodes and costs in the priority queue.\n",
            "-------------------------------------------------\n",
            "\n"
          ]
        }
      ]
    }
  ]
}